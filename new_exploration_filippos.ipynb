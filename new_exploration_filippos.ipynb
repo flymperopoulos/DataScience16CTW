{
 "cells": [
  {
   "cell_type": "code",
   "execution_count": 251,
   "metadata": {
    "collapsed": true
   },
   "outputs": [],
   "source": [
    "%matplotlib inline\n",
    "import pandas as pd\n",
    "import numpy as np\n",
    "import seaborn as sns\n",
    "import matplotlib.pyplot as plt\n",
    "import re\n",
    "from sklearn import preprocessing\n",
    "import seaborn as sns\n",
    "from datetime import datetime"
   ]
  },
  {
   "cell_type": "code",
   "execution_count": 50,
   "metadata": {
    "collapsed": false
   },
   "outputs": [],
   "source": [
    "listingsBoston = pd.read_csv('./bostonListings.csv')\n",
    "calendarBoston = pd.read_csv('./calendar.csv')"
   ]
  },
  {
   "cell_type": "code",
   "execution_count": 242,
   "metadata": {
    "collapsed": true
   },
   "outputs": [],
   "source": [
    "class Helper():\n",
    "    def __init__(self):\n",
    "        pass\n",
    "    \n",
    "    def amenities_to_list(self, amenities):\n",
    "        amenities = amenities.replace('{', '')\n",
    "        amenities = amenities.replace('}', '')\n",
    "        amenities = amenities.replace('\\\"', '')\n",
    "        return amenities.split(',')\n",
    "\n",
    "    def num_amenities(self, amenitiesList):\n",
    "        return len(amenitiesList)\n",
    "\n",
    "    def price_to_int(self, price):\n",
    "        price = price.replace(',', '')\n",
    "        price = price.replace('$', '')\n",
    "        return float(price)\n",
    "\n",
    "helper = Helper();"
   ]
  },
  {
   "cell_type": "code",
   "execution_count": 247,
   "metadata": {
    "collapsed": true
   },
   "outputs": [],
   "source": [
    "class cleanProcessor():\n",
    "    def __init__(self, data):\n",
    "        self.data = data\n",
    "        \n",
    "    def clean_listings(self):\n",
    "        self.df_clean = self.data.copy()\n",
    "        self.df_clean['amenities'] = self.df_clean['amenities'].apply(helper.amenities_to_list)\n",
    "        self.df_clean['num_amenities'] = self.df_clean['amenities'].apply(helper.num_amenities)\n",
    "        self. df_clean['price'] = self.df_clean['price'].apply(helper.price_to_int)\n",
    "        return self.df_clean\n",
    "\n",
    "    def clean_calendar(self):\n",
    "        self.df_clean = df.copy()\n",
    "        self.df_clean = self.df_clean[self.df_clean.available == 't']\n",
    "        self.df_clean['price'] = self.df_clean['price'].apply(helper.price_to_int)\n",
    "        return self.df_clean\n",
    "\n",
    "clean_processor_listings = cleanProcessor(listingsBoston)\n",
    "clean_processor_calendar = cleanProcessor(calendarBoston)"
   ]
  },
  {
   "cell_type": "code",
   "execution_count": 249,
   "metadata": {
    "collapsed": false
   },
   "outputs": [],
   "source": [
    "cleaned_data = clean_processor_listings.clean_listings()"
   ]
  },
  {
   "cell_type": "code",
   "execution_count": 255,
   "metadata": {
    "collapsed": false
   },
   "outputs": [
    {
     "name": "stdout",
     "output_type": "stream",
     "text": [
      "2013-09-14\n",
      "2009-05-11\n"
     ]
    },
    {
     "data": {
      "text/html": [
       "<div>\n",
       "<table border=\"1\" class=\"dataframe\">\n",
       "  <thead>\n",
       "    <tr style=\"text-align: right;\">\n",
       "      <th></th>\n",
       "      <th>id</th>\n",
       "      <th>listing_url</th>\n",
       "      <th>scrape_id</th>\n",
       "      <th>last_scraped</th>\n",
       "      <th>name</th>\n",
       "      <th>summary</th>\n",
       "      <th>space</th>\n",
       "      <th>description</th>\n",
       "      <th>experiences_offered</th>\n",
       "      <th>neighborhood_overview</th>\n",
       "      <th>...</th>\n",
       "      <th>license</th>\n",
       "      <th>jurisdiction_names</th>\n",
       "      <th>instant_bookable</th>\n",
       "      <th>cancellation_policy</th>\n",
       "      <th>require_guest_profile_picture</th>\n",
       "      <th>require_guest_phone_verification</th>\n",
       "      <th>calculated_host_listings_count</th>\n",
       "      <th>reviews_per_month</th>\n",
       "      <th>num_amenities</th>\n",
       "      <th>NumDays</th>\n",
       "    </tr>\n",
       "  </thead>\n",
       "  <tbody>\n",
       "    <tr>\n",
       "      <th>0</th>\n",
       "      <td>1810172</td>\n",
       "      <td>https://www.airbnb.com/rooms/1810172</td>\n",
       "      <td>20151002231814</td>\n",
       "      <td>2015-10-03</td>\n",
       "      <td>Room for 2 in Rozzie - Full Bath</td>\n",
       "      <td>This second floor bedroom sleeps two in a quee...</td>\n",
       "      <td>NaN</td>\n",
       "      <td>This second floor bedroom sleeps two in a quee...</td>\n",
       "      <td>none</td>\n",
       "      <td>Our neighborhood is quiet and relaxed. There i...</td>\n",
       "      <td>...</td>\n",
       "      <td>NaN</td>\n",
       "      <td>NaN</td>\n",
       "      <td>f</td>\n",
       "      <td>flexible</td>\n",
       "      <td>f</td>\n",
       "      <td>f</td>\n",
       "      <td>2</td>\n",
       "      <td>0.64</td>\n",
       "      <td>17</td>\n",
       "      <td>1768</td>\n",
       "    </tr>\n",
       "    <tr>\n",
       "      <th>1</th>\n",
       "      <td>6976</td>\n",
       "      <td>https://www.airbnb.com/rooms/6976</td>\n",
       "      <td>20151002231814</td>\n",
       "      <td>2015-10-03</td>\n",
       "      <td>Mexican Folk Art Haven in Boston</td>\n",
       "      <td>Come stay with a friendly, middle-aged guy in ...</td>\n",
       "      <td>This is a well-maintained two-family house bui...</td>\n",
       "      <td>Come stay with a friendly, middle-aged guy in ...</td>\n",
       "      <td>none</td>\n",
       "      <td>The LOCATION: Roslindale is a safe and diverse...</td>\n",
       "      <td>...</td>\n",
       "      <td>NaN</td>\n",
       "      <td>NaN</td>\n",
       "      <td>f</td>\n",
       "      <td>moderate</td>\n",
       "      <td>t</td>\n",
       "      <td>f</td>\n",
       "      <td>1</td>\n",
       "      <td>0.42</td>\n",
       "      <td>15</td>\n",
       "      <td>181</td>\n",
       "    </tr>\n",
       "  </tbody>\n",
       "</table>\n",
       "<p>2 rows × 94 columns</p>\n",
       "</div>"
      ],
      "text/plain": [
       "        id                           listing_url       scrape_id last_scraped  \\\n",
       "0  1810172  https://www.airbnb.com/rooms/1810172  20151002231814   2015-10-03   \n",
       "1     6976     https://www.airbnb.com/rooms/6976  20151002231814   2015-10-03   \n",
       "\n",
       "                               name  \\\n",
       "0  Room for 2 in Rozzie - Full Bath   \n",
       "1  Mexican Folk Art Haven in Boston   \n",
       "\n",
       "                                             summary  \\\n",
       "0  This second floor bedroom sleeps two in a quee...   \n",
       "1  Come stay with a friendly, middle-aged guy in ...   \n",
       "\n",
       "                                               space  \\\n",
       "0                                                NaN   \n",
       "1  This is a well-maintained two-family house bui...   \n",
       "\n",
       "                                         description experiences_offered  \\\n",
       "0  This second floor bedroom sleeps two in a quee...                none   \n",
       "1  Come stay with a friendly, middle-aged guy in ...                none   \n",
       "\n",
       "                               neighborhood_overview   ...   license  \\\n",
       "0  Our neighborhood is quiet and relaxed. There i...   ...       NaN   \n",
       "1  The LOCATION: Roslindale is a safe and diverse...   ...       NaN   \n",
       "\n",
       "  jurisdiction_names instant_bookable cancellation_policy  \\\n",
       "0                NaN                f            flexible   \n",
       "1                NaN                f            moderate   \n",
       "\n",
       "  require_guest_profile_picture require_guest_phone_verification  \\\n",
       "0                             f                                f   \n",
       "1                             t                                f   \n",
       "\n",
       "   calculated_host_listings_count reviews_per_month num_amenities NumDays  \n",
       "0                               2              0.64            17    1768  \n",
       "1                               1              0.42            15     181  \n",
       "\n",
       "[2 rows x 94 columns]"
      ]
     },
     "execution_count": 255,
     "metadata": {},
     "output_type": "execute_result"
    }
   ],
   "source": [
    "def sub_null_with_max(data):\n",
    "    for i in range(len(data.host_since)):\n",
    "        if data.host_since.isnull()[i] == True:\n",
    "            data.host_since[i] = '2015-10-02'\n",
    "    return data\n",
    "\n",
    "\n",
    "def days_between(d1, d2):\n",
    "    d1 = datetime.strptime(d1, \"%Y-%m-%d\")\n",
    "    d2 = datetime.strptime(d2, \"%Y-%m-%d\")\n",
    "    return abs((d2 - d1).days)\n",
    "\n",
    "dates = sub_null_with_max(cleaned_data).host_since\n",
    "date_min = dates.min()\n",
    "\n",
    "for index in range(len(dates)):\n",
    "    t_delta=days_between(dates[index],date_min)\n",
    "    cleaned_data.loc[index,('NumDays')]=t_delta\n",
    "\n",
    "print cleaned_data.host_since[0]\n",
    "print cleaned_data.host_since[1]\n",
    "\n",
    "cleaned_data.head(2)"
   ]
  }
 ],
 "metadata": {
  "kernelspec": {
   "display_name": "Python 2",
   "language": "python",
   "name": "python2"
  },
  "language_info": {
   "codemirror_mode": {
    "name": "ipython",
    "version": 2
   },
   "file_extension": ".py",
   "mimetype": "text/x-python",
   "name": "python",
   "nbconvert_exporter": "python",
   "pygments_lexer": "ipython2",
   "version": "2.7.11"
  }
 },
 "nbformat": 4,
 "nbformat_minor": 0
}
